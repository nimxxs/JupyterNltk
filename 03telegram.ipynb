{
 "cells": [
  {
   "cell_type": "markdown",
   "id": "2295d87e-c4a4-4a11-98ed-3743cd7cc51e",
   "metadata": {},
   "source": [
    "## 텔레그램 챗봇 만들기\n",
    "* 텔레그램은 카카오톡과 같은 유명한 인터넷 메신저\n",
    "* bot은 특정작업을 수행하도록 고안된 자동화 프로그램\n",
    "* 마치 인간이 하는 행동을 흉내내도록 만들었음\n",
    "* 메신저 봇은 사람과 자동으로 대화하도록 고안된 프로그램\n",
    "* 봇의 활용용도는 메세지를 보내거나 채팅방의 데이터를\n",
    "* 수집하는 등의 다양한 용도로 사용가능\n",
    "* core.telegram.org"
   ]
  },
  {
   "cell_type": "markdown",
   "id": "4f676c59-be96-4c47-8457-25a7d68e13da",
   "metadata": {},
   "source": [
    "### 파이썬용 텔레그램 라이브러리 설치\n",
    "* python-teltgram-bot 이라는 패키지는\n",
    "* 파이썬에서 텔레그램을 쉽게 이용할 수 있도록 지원하는 wrapper 패키지임\n",
    "* pip install python-telegram-bot"
   ]
  },
  {
   "cell_type": "code",
   "execution_count": 1,
   "id": "4a28d7d9-6fea-4c1f-8519-c5d656c61936",
   "metadata": {
    "collapsed": true,
    "jupyter": {
     "outputs_hidden": true
    },
    "scrolled": true
   },
   "outputs": [
    {
     "name": "stdout",
     "output_type": "stream",
     "text": [
      "Requirement already satisfied: python-telegram-bot==13.7 in /opt/conda/lib/python3.11/site-packages (13.7)\n",
      "Requirement already satisfied: certifi in /opt/conda/lib/python3.11/site-packages (from python-telegram-bot==13.7) (2023.7.22)\n",
      "Requirement already satisfied: tornado>=6.1 in /opt/conda/lib/python3.11/site-packages (from python-telegram-bot==13.7) (6.1)\n",
      "Requirement already satisfied: APScheduler==3.6.3 in /opt/conda/lib/python3.11/site-packages (from python-telegram-bot==13.7) (3.6.3)\n",
      "Requirement already satisfied: pytz>=2018.6 in /opt/conda/lib/python3.11/site-packages (from python-telegram-bot==13.7) (2023.3)\n",
      "Requirement already satisfied: cachetools==4.2.2 in /opt/conda/lib/python3.11/site-packages (from python-telegram-bot==13.7) (4.2.2)\n",
      "Requirement already satisfied: setuptools>=0.7 in /opt/conda/lib/python3.11/site-packages (from APScheduler==3.6.3->python-telegram-bot==13.7) (68.0.0)\n",
      "Requirement already satisfied: six>=1.4.0 in /opt/conda/lib/python3.11/site-packages (from APScheduler==3.6.3->python-telegram-bot==13.7) (1.16.0)\n",
      "Requirement already satisfied: tzlocal>=1.2 in /opt/conda/lib/python3.11/site-packages (from APScheduler==3.6.3->python-telegram-bot==13.7) (5.0.1)\n"
     ]
    }
   ],
   "source": [
    "# == 뒤에 버전을 지정해줌\n",
    "!pip install python-telegram-bot==13.7"
   ]
  },
  {
   "cell_type": "code",
   "execution_count": 2,
   "id": "ef3834b2-9891-4f89-b3e1-e92ea0ac7e88",
   "metadata": {},
   "outputs": [],
   "source": [
    "import telegram"
   ]
  },
  {
   "cell_type": "code",
   "execution_count": 3,
   "id": "7d8cfe54-b3cf-4372-89d7-a273e65f7efe",
   "metadata": {},
   "outputs": [
    {
     "data": {
      "text/plain": [
       "'13.7'"
      ]
     },
     "execution_count": 3,
     "metadata": {},
     "output_type": "execute_result"
    }
   ],
   "source": [
    "# 실습에 사용하는 버전 : v13.15 (2022.05.06 버전)\n",
    "# 2023.09.20 기준 v20.5가 최신버전\n",
    "telegram.__version__"
   ]
  },
  {
   "cell_type": "code",
   "execution_count": 4,
   "id": "a918449c-c9a5-4b13-bf4c-d312817bd153",
   "metadata": {},
   "outputs": [
    {
     "data": {
      "text/plain": [
       "'6540124535:AAFlmA7M3sEEaHtXK451bGTofe1dyEJ7miU'"
      ]
     },
     "execution_count": 4,
     "metadata": {},
     "output_type": "execute_result"
    }
   ],
   "source": [
    "# 텔레그램 API 키 등록\n",
    "with open('telegram_token.txt') as f:\n",
    "    mytoken = f.read()\n",
    "mytoken"
   ]
  },
  {
   "cell_type": "markdown",
   "id": "2cf49afd-6e46-4b6e-9ac7-477c8119f8b3",
   "metadata": {},
   "source": [
    "### 텔레그램 메세지 보내기 1"
   ]
  },
  {
   "cell_type": "code",
   "execution_count": 5,
   "id": "064e42dc-bdfc-4f9d-91b9-0aecea72a404",
   "metadata": {},
   "outputs": [],
   "source": [
    "# 텔레그램 봇 초기화\n",
    "bot = telegram.Bot(token=mytoken)"
   ]
  },
  {
   "cell_type": "code",
   "execution_count": 6,
   "id": "df4b5bee-fbb7-46b5-a681-cbf806740c15",
   "metadata": {},
   "outputs": [
    {
     "data": {
      "text/plain": [
       "<telegram.message.Message at 0x55c618b96190>"
      ]
     },
     "execution_count": 6,
     "metadata": {},
     "output_type": "execute_result"
    }
   ],
   "source": [
    "# 대화상대에게 메세지 전송\n",
    "bot.sendMessage(chat_id=5893411629, text='Hellow, World!!')"
   ]
  },
  {
   "cell_type": "markdown",
   "id": "b439af44-b2b8-4fbc-b6b7-11b8604a795a",
   "metadata": {},
   "source": [
    "### 텔레그램 메세지 보내기 2"
   ]
  },
  {
   "cell_type": "code",
   "execution_count": 7,
   "id": "01129170-949c-491b-b31c-5222f6bfeb25",
   "metadata": {},
   "outputs": [],
   "source": [
    "import requests"
   ]
  },
  {
   "cell_type": "code",
   "execution_count": 8,
   "id": "a253aac0-a859-4334-b28d-6384f2eaf8ec",
   "metadata": {},
   "outputs": [],
   "source": [
    "chat_id = 5893411629\n",
    "text = 'hello, World!!'\n",
    "\n",
    "url = f'https://api.telegram.org/bot{mytoken}/sendMessage'\\\n",
    "        f'?chat_id={chat_id}&text={text}'"
   ]
  },
  {
   "cell_type": "code",
   "execution_count": 9,
   "id": "1b7c8c1e-9667-48d7-a5c4-a73664f572db",
   "metadata": {},
   "outputs": [
    {
     "data": {
      "text/plain": [
       "{'ok': True,\n",
       " 'result': {'message_id': 90,\n",
       "  'from': {'id': 6540124535,\n",
       "   'is_bot': True,\n",
       "   'first_name': 'bigdata2199',\n",
       "   'username': 'bigdata2199Bot'},\n",
       "  'chat': {'id': 5893411629,\n",
       "   'first_name': 'soomin',\n",
       "   'last_name': 'choi',\n",
       "   'type': 'private'},\n",
       "  'date': 1695178180,\n",
       "  'text': 'hello, World!!'}}"
      ]
     },
     "execution_count": 9,
     "metadata": {},
     "output_type": "execute_result"
    }
   ],
   "source": [
    "# 메세지 보내고 결과 받음\n",
    "requests.get(url).json()"
   ]
  },
  {
   "cell_type": "markdown",
   "id": "f29df8a3-dd99-4dd0-8ec6-01dd77abb92c",
   "metadata": {},
   "source": [
    "### 로또 텔레그램 봇\n",
    "* /lotto라고 입력시 6개 숫자 출력"
   ]
  },
  {
   "cell_type": "markdown",
   "id": "a180f570-9078-4cde-b663-ec1016399596",
   "metadata": {},
   "source": [
    "#### 파이썬으로 날짜시간 다루기\n",
    "* datetime 패키지와 strftime함수를 이용해 날짜와 시간 출력 가능"
   ]
  },
  {
   "cell_type": "code",
   "execution_count": 10,
   "id": "5546e542-e30d-4876-87dd-40395317dd58",
   "metadata": {},
   "outputs": [
    {
     "data": {
      "text/plain": [
       "datetime.datetime(2023, 9, 20, 11, 49, 41, 12034)"
      ]
     },
     "execution_count": 10,
     "metadata": {},
     "output_type": "execute_result"
    }
   ],
   "source": [
    "import datetime as dt\n",
    "import locale\n",
    "\n",
    "#locale.setlocale(locale.LC_ALL, 'ko_KR.UTF-8')\n",
    "dt.datetime.now()"
   ]
  },
  {
   "cell_type": "code",
   "execution_count": 11,
   "id": "6325c02f-0720-4855-88a2-50dc8f801b30",
   "metadata": {},
   "outputs": [
    {
     "data": {
      "text/plain": [
       "'AM 11:49:41'"
      ]
     },
     "execution_count": 11,
     "metadata": {},
     "output_type": "execute_result"
    }
   ],
   "source": [
    "# 형식문자열 : %H(24시), %I(12시), %M(분), %S(초), %p(오전/오후)\n",
    "now = dt.datetime.now()\n",
    "now.strftime('%p %I:%M:%S')"
   ]
  },
  {
   "cell_type": "code",
   "execution_count": 12,
   "id": "ca5bee82-5f32-4723-88d6-fb091fe74030",
   "metadata": {},
   "outputs": [
    {
     "data": {
      "text/plain": [
       "'2023년 09월 20일 Wednesday이고요 줄여서는 Wed입니다.'"
      ]
     },
     "execution_count": 12,
     "metadata": {},
     "output_type": "execute_result"
    }
   ],
   "source": [
    "# 형식문자열 : %Y(년), %m(월), %d(일), %A(요일), %a(요일 축약)\n",
    "now.strftime('%Y년 %m월 %d일 %A이고요 줄여서는 %a입니다.')"
   ]
  },
  {
   "cell_type": "markdown",
   "id": "922d26ce-db0a-49cc-a74b-f122e36788ce",
   "metadata": {},
   "source": [
    "### 텔레그램 봇 생성, 메세지 출력"
   ]
  },
  {
   "cell_type": "code",
   "execution_count": 13,
   "id": "ee174452-9a4d-4016-b34d-164cef96cb6d",
   "metadata": {},
   "outputs": [],
   "source": [
    "import random\n",
    "import time\n",
    "from telegram import Update\n",
    "from telegram.ext import Updater, CallbackContext\n",
    "from telegram.ext import MessageHandler\n",
    "from telegram.ext import CommandHandler\n",
    "from telegram.ext import Filters"
   ]
  },
  {
   "cell_type": "markdown",
   "id": "b56d2324-5d5a-4a76-b6db-15abf872d638",
   "metadata": {},
   "source": [
    "#### 텔레그램 챗봇 응답처리 콜백함수 정의\n",
    "* 콜백함수명(context, update)"
   ]
  },
  {
   "cell_type": "code",
   "execution_count": 14,
   "id": "edbfb266-5536-43fa-bb78-857ec1d8258c",
   "metadata": {},
   "outputs": [],
   "source": [
    "# 입력받은 메세지를 다시 메세지로 출력하는 함수\n",
    "def reply_message(update, context):\n",
    "    context.bot.send_message(text=update.message.text,\n",
    "                    chat_id=update.message.chat_id)"
   ]
  },
  {
   "cell_type": "code",
   "execution_count": 15,
   "id": "ee7d9069-7312-48a0-ae7a-1e3a91d2ee15",
   "metadata": {},
   "outputs": [],
   "source": [
    "# '/lotto'라 입력하면 로또를 출력하는 함수\n",
    "def lotto_message(update, context):\n",
    "    lotto = random.sample(range(1, 45+1), 6)\n",
    "    update.message.reply_text(f'오늘의 행운의 숫자는 ? : {lotto} 🐈🐕🐅')"
   ]
  },
  {
   "cell_type": "code",
   "execution_count": 16,
   "id": "411ee69d-952b-473f-92ad-188f48644d61",
   "metadata": {},
   "outputs": [],
   "source": [
    "# '/date'라 입력하면 현재날짜(년월일요일)를 출력하는 함수\n",
    "def date_message(update, context):\n",
    "    date = now.strftime('%Y년 %m월 %d일 %A이고요 줄여서는 %a입니다.')\n",
    "    update.message.reply_text(f'오늘은  {date} 🐥🐤🐣')"
   ]
  },
  {
   "cell_type": "code",
   "execution_count": 17,
   "id": "d6c25ba9-f7ca-44de-b4f3-e6d746d627dc",
   "metadata": {},
   "outputs": [],
   "source": [
    "# '/time'라 입력하면 현재시간(시분초 오전/오후)을 출력하는 함수\n",
    "def time_message(update, context):\n",
    "    time = now.strftime('%p %I시 %M분 %S초입니다.')\n",
    "    update.message.reply_text(f'현재시간은  {time} 🌝🌞⭐')"
   ]
  },
  {
   "cell_type": "markdown",
   "id": "65fe9592-86be-4a9b-a110-b009d82f4ed7",
   "metadata": {},
   "source": [
    "#### 텔레그램 챗봇 서버 실행\n",
    "* Updater: 사용자로부터 새로운 메세지가 있는지 주기적으로 확인"
   ]
  },
  {
   "cell_type": "code",
   "execution_count": 18,
   "id": "c4e035b7-509d-40ff-bb06-5532a05ed7fd",
   "metadata": {},
   "outputs": [
    {
     "name": "stdout",
     "output_type": "stream",
     "text": [
      "텔레그램 RPA 서버 준비중...\n"
     ]
    }
   ],
   "source": [
    "print('텔레그램 RPA 서버 준비중...')\n",
    "updater = Updater(mytoken, use_context=True)"
   ]
  },
  {
   "cell_type": "markdown",
   "id": "09085088-caa7-4f68-9c91-21df99137233",
   "metadata": {},
   "source": [
    "### 콜백함수를 챗봇서버에 등록하기\n",
    "* 위에서 정의한 콜백함수들을 핸들러객체로 만든후 챗봇서버에 등록\n",
    "* MessageHandler : 입력받은 텍스트를 그대로 처리할때 사용할 콜백함수를 호출하는 핸들러\n",
    "* CommandHandler : 특정문자열 입력시 이것과 관련된 콜백함수 호출CommandHandler(명령, 콜백함수)\n",
    "* addHandler : 생성한 핸들러 객체를 챗봇서버에 등록함"
   ]
  },
  {
   "cell_type": "markdown",
   "id": "d7ea254b-d9a1-47b4-b8e3-05684f303637",
   "metadata": {},
   "source": [
    "#### 핸들러 정의"
   ]
  },
  {
   "cell_type": "code",
   "execution_count": 19,
   "id": "bdb4212e-9342-4c64-af4f-a5fce9d20986",
   "metadata": {},
   "outputs": [],
   "source": [
    "reply_handler = MessageHandler(Filters.text, reply_message)\n",
    "lotto_handler = CommandHandler('lotto', lotto_message)\n",
    "date_handler = CommandHandler('date', date_message)\n",
    "time_handler = CommandHandler('time', time_message)"
   ]
  },
  {
   "cell_type": "markdown",
   "id": "5d6b3cec-3887-430e-bd93-56657538f8a7",
   "metadata": {},
   "source": [
    "#### 핸들러 등록\n",
    "* CommandHandler를 먼저 등록하고\n",
    "* 맨 마지막에 MessageHandler를 등록함"
   ]
  },
  {
   "cell_type": "code",
   "execution_count": 20,
   "id": "2f5d27e4-1a6b-4cf4-b8f2-d9a653468cf3",
   "metadata": {},
   "outputs": [],
   "source": [
    "updater.dispatcher.add_handler(lotto_handler)\n",
    "updater.dispatcher.add_handler(date_handler)\n",
    "updater.dispatcher.add_handler(time_handler)\n",
    "updater.dispatcher.add_handler(reply_handler)"
   ]
  },
  {
   "cell_type": "markdown",
   "id": "86dcd362-cb89-485e-8803-7c3d2b91c9c7",
   "metadata": {},
   "source": [
    "#### 챗봇서버 가동\n",
    "* start_polling"
   ]
  },
  {
   "cell_type": "code",
   "execution_count": 21,
   "id": "76a1c594-5939-46a2-8039-3cb323e7caf0",
   "metadata": {},
   "outputs": [
    {
     "name": "stdout",
     "output_type": "stream",
     "text": [
      "텔레그램 RPA 서버 실행중...\n"
     ]
    }
   ],
   "source": [
    "print('텔레그램 RPA 서버 실행중...')\n",
    "updater.start_polling(timeout=3, drop_pending_updates=True)\n",
    "updater.idle()"
   ]
  }
 ],
 "metadata": {
  "kernelspec": {
   "display_name": "Python 3 (ipykernel)",
   "language": "python",
   "name": "python3"
  },
  "language_info": {
   "codemirror_mode": {
    "name": "ipython",
    "version": 3
   },
   "file_extension": ".py",
   "mimetype": "text/x-python",
   "name": "python",
   "nbconvert_exporter": "python",
   "pygments_lexer": "ipython3",
   "version": "3.11.4"
  }
 },
 "nbformat": 4,
 "nbformat_minor": 5
}

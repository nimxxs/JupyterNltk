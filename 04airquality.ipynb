{
 "cells": [
  {
   "cell_type": "markdown",
   "id": "fecfcca4-98dc-4381-86ba-cf3d08783757",
   "metadata": {},
   "source": [
    "## 날씨, 대기질, 코로나감염 현황을 알려주는 메신져봇 구현"
   ]
  },
  {
   "cell_type": "code",
   "execution_count": 1,
   "id": "c0ac5da2-ee57-4464-869d-50c8816f9510",
   "metadata": {},
   "outputs": [],
   "source": [
    "import telegram"
   ]
  },
  {
   "cell_type": "code",
   "execution_count": 2,
   "id": "3a2a60eb-01db-4b3d-95eb-c137b931bdb0",
   "metadata": {},
   "outputs": [
    {
     "data": {
      "text/plain": [
       "'6540124535:AAFlmA7M3sEEaHtXK451bGTofe1dyEJ7miU'"
      ]
     },
     "execution_count": 2,
     "metadata": {},
     "output_type": "execute_result"
    }
   ],
   "source": [
    "# 텔레그램 API 키 등록\n",
    "with open('telegram_token.txt') as f:\n",
    "    mytoken = f.read()\n",
    "mytoken"
   ]
  },
  {
   "cell_type": "code",
   "execution_count": 3,
   "id": "6a03a813-e8e2-437e-8142-e945923383a4",
   "metadata": {},
   "outputs": [],
   "source": [
    "# 텔레그램 봇 초기화\n",
    "bot = telegram.Bot(token=mytoken)"
   ]
  },
  {
   "cell_type": "code",
   "execution_count": 4,
   "id": "dd5df71d-964d-4a6b-bd1d-fe16f3687682",
   "metadata": {},
   "outputs": [],
   "source": [
    "from telegram.ext import Updater\n",
    "from telegram.ext import MessageHandler\n",
    "from telegram.ext import CommandHandler\n",
    "from telegram.ext import Filters"
   ]
  },
  {
   "cell_type": "markdown",
   "id": "4a73bd51-347b-49e3-b881-80eabfcdfd43",
   "metadata": {},
   "source": [
    "### 미세먼지 등급에 따른 이모지 출력 함수"
   ]
  },
  {
   "cell_type": "code",
   "execution_count": 5,
   "id": "787002d6-547f-4a85-bb2a-cc5a05c344cc",
   "metadata": {},
   "outputs": [],
   "source": [
    "def pm10grade(val):\n",
    "    grade = '😊'\n",
    "    try:\n",
    "        val = int(val)\n",
    "    except:\n",
    "        return '🤬없다 이눔아!🤬'\n",
    "    if val > 150: grade = '🥵'\n",
    "    elif val > 80: grade = '🤔'\n",
    "    elif val > 30: grade = '😗'\n",
    "    return grade"
   ]
  },
  {
   "cell_type": "code",
   "execution_count": 6,
   "id": "80a956e3-5754-4874-b8b4-dad105c2824d",
   "metadata": {},
   "outputs": [],
   "source": [
    "def pm25grade(val):\n",
    "    grade = '😊'\n",
    "    try:\n",
    "        val = int(val)\n",
    "    except:\n",
    "        return '🤬없다 이눔아!🤬'\n",
    "    if val > 75: grade = '🥵'\n",
    "    elif val > 35: grade = '🤔'\n",
    "    elif val > 15: grade = '😗'\n",
    "    return grade"
   ]
  },
  {
   "cell_type": "markdown",
   "id": "72789c28-260e-4e67-94e9-acaeb0149ce3",
   "metadata": {},
   "source": [
    "### 대기정보 수집하고 조회하는 함수"
   ]
  },
  {
   "cell_type": "code",
   "execution_count": 7,
   "id": "0c674d1f-a4a4-4446-a259-8e2b0ffd3dd4",
   "metadata": {},
   "outputs": [],
   "source": [
    "import requests\n",
    "import json"
   ]
  },
  {
   "cell_type": "code",
   "execution_count": 8,
   "id": "c5906a60-c77c-458e-9881-508b30aa600f",
   "metadata": {},
   "outputs": [],
   "source": [
    "url = 'http://apis.data.go.kr/B552584/ArpltnInforInqireSvc/getCtprvnRltmMesureDnsty'\n",
    "with open('datagokr_key.txt') as f:\n",
    "    mykey = f.read()"
   ]
  },
  {
   "cell_type": "code",
   "execution_count": 18,
   "id": "1b14916d-8707-4507-af97-279f7704e24c",
   "metadata": {},
   "outputs": [],
   "source": [
    "headers = {'User-Agent':'Mozilla/5.0 (Windows NT 10.0; Win64; x64) AppleWebKit/537.36 (KHTML, like Gecko) Chrome/115.0.0.0 Safari/537.36'}\n",
    "params = {'serviceKey':mykey, 'returnType':'json', 'ver':'1.0', 'numOfRows':1000, 'sidoName':'전국', 'pageNo':1}"
   ]
  },
  {
   "cell_type": "code",
   "execution_count": 10,
   "id": "946912b0-b204-44e7-bf54-f75daa95e28f",
   "metadata": {},
   "outputs": [],
   "source": [
    "# data.go.kr에서 미세먼지정보를 내려받아 json파일로 저장\n",
    "def reload_air():\n",
    "    res = requests.get(url, headers=headers, params=params)\n",
    "    with open('./data/air.json', 'w', encoding='UTF-8') as f:\n",
    "        f.writelines(res.text)\n",
    "\n",
    "reload_air()"
   ]
  },
  {
   "cell_type": "code",
   "execution_count": 11,
   "id": "cc06b4e4-7c90-417e-992b-e7824167b8a9",
   "metadata": {},
   "outputs": [],
   "source": [
    "# 특정 지역의 미세먼지 정보를 조회해서 결과 반환\n",
    "def fetch_air(region):\n",
    "    with open('./data/air.json', encoding='UTF-8') as f:\n",
    "        airdata = json.load(f)\n",
    "\n",
    "    airinfo = ''\n",
    "    for item in airdata['response']['body']['items']:\n",
    "        if (region.split()[0] == item['sidoName']) and \\\n",
    "            (region.split()[1] == item['stationName']):\n",
    "            #print(region, item['dataTime'], item['pm10Value'], item['pm25Value'])\n",
    "            rate1 = pm10grade(item['pm10Value'])\n",
    "            rate2 = pm25grade(item['pm25Value'])\n",
    "            airinfo = f\"{item['dataTime']} \\n\"\\\n",
    "                      f\"{item['pm10Value']}㎍/㎥ {rate1} \"\\\n",
    "                      f\"{item['pm25Value']}㎍/㎥ {rate2} \"\n",
    "        \n",
    "    return airinfo\n",
    "\n",
    "#fetch_air('서울 관악구')"
   ]
  },
  {
   "cell_type": "markdown",
   "id": "2af17f2d-aa28-4b6c-9586-6f85247e20af",
   "metadata": {},
   "source": [
    "### 텔레그램 챗봇 응답처리 콜백함수"
   ]
  },
  {
   "cell_type": "code",
   "execution_count": 12,
   "id": "634453f7-6d83-4c83-80eb-073274c6190f",
   "metadata": {},
   "outputs": [],
   "source": [
    "# 미세먼지 정보 출력\n",
    "def air_message(update, context):\n",
    "    airinfo = fetch_air(update.message.text)\n",
    "    context.bot.send_message(update.effective_chat.id, airinfo)"
   ]
  },
  {
   "cell_type": "code",
   "execution_count": 13,
   "id": "f702a426-ad3b-476b-90bf-16d7fad74b5a",
   "metadata": {},
   "outputs": [],
   "source": [
    "# 미세먼지 정보 갱신 - /reload 입력시 호출\n",
    "def reload_message(update, context):\n",
    "    reload_air()\n",
    "    context.bot.send_message(update.effective_chat.id, '💫대기정보 갱신됨!!💫')"
   ]
  },
  {
   "cell_type": "markdown",
   "id": "77655fc6-3ef5-42d9-a201-64af2171b1dc",
   "metadata": {},
   "source": [
    "### 텔레그램 챗봇 서버 초기화"
   ]
  },
  {
   "cell_type": "code",
   "execution_count": 14,
   "id": "e15abc54-44fa-44b9-a153-9274c33f12f9",
   "metadata": {},
   "outputs": [
    {
     "name": "stdout",
     "output_type": "stream",
     "text": [
      "텔레그램 RPA 서버 준비중...\n"
     ]
    }
   ],
   "source": [
    "print('텔레그램 RPA 서버 준비중...')\n",
    "updater = Updater(mytoken, use_context=True)"
   ]
  },
  {
   "cell_type": "markdown",
   "id": "90d71fda-acda-4349-9f2e-ef5378e00cda",
   "metadata": {},
   "source": [
    "#### 콜백함수 등록"
   ]
  },
  {
   "cell_type": "code",
   "execution_count": 15,
   "id": "d926e08d-15a1-4087-986b-6d3918c7f154",
   "metadata": {},
   "outputs": [],
   "source": [
    "air_handler = MessageHandler(Filters.text, air_message)\n",
    "reload_handler = CommandHandler('reload', reload_message)"
   ]
  },
  {
   "cell_type": "markdown",
   "id": "dd6e9371-4118-48b5-94a0-c2204dc3b196",
   "metadata": {},
   "source": [
    "#### 핸들러 함수 등록"
   ]
  },
  {
   "cell_type": "code",
   "execution_count": 16,
   "id": "34b5687b-331b-4aec-8f1a-db9a625d60ab",
   "metadata": {},
   "outputs": [],
   "source": [
    "updater.dispatcher.add_handler(reload_handler)\n",
    "updater.dispatcher.add_handler(air_handler)"
   ]
  },
  {
   "cell_type": "markdown",
   "id": "78ed5633-fa7d-42bb-9321-1c351a38af7c",
   "metadata": {},
   "source": [
    "#### 텔레그램 챗봇 서버 실행"
   ]
  },
  {
   "cell_type": "code",
   "execution_count": 17,
   "id": "ea024a1e-6ed1-411b-8b51-50e1c8d2fc4c",
   "metadata": {
    "collapsed": true,
    "jupyter": {
     "outputs_hidden": true
    }
   },
   "outputs": [
    {
     "name": "stdout",
     "output_type": "stream",
     "text": [
      "텔레그램 RPA 서버 실행중...\n"
     ]
    },
    {
     "name": "stderr",
     "output_type": "stream",
     "text": [
      "No error handlers are registered, logging exception.\n",
      "Traceback (most recent call last):\n",
      "  File \"/opt/conda/lib/python3.11/site-packages/telegram/ext/dispatcher.py\", line 555, in process_update\n",
      "    handler.handle_update(update, self, check, context)\n",
      "  File \"/opt/conda/lib/python3.11/site-packages/telegram/ext/handler.py\", line 198, in handle_update\n",
      "    return self.callback(update, context)\n",
      "           ^^^^^^^^^^^^^^^^^^^^^^^^^^^^^^\n",
      "  File \"/tmp/ipykernel_19536/3690942836.py\", line 4, in air_message\n",
      "    context.bot.send_message(update.effective_chat.id, airinfo)\n",
      "  File \"/opt/conda/lib/python3.11/site-packages/telegram/bot.py\", line 130, in decorator\n",
      "    result = func(*args, **kwargs)\n",
      "             ^^^^^^^^^^^^^^^^^^^^^\n",
      "  File \"/opt/conda/lib/python3.11/site-packages/telegram/bot.py\", line 513, in send_message\n",
      "    return self._message(  # type: ignore[return-value]\n",
      "           ^^^^^^^^^^^^^^^^^^^^^^^^^^^^^^^^^^^^^^^^^^^^\n",
      "  File \"/opt/conda/lib/python3.11/site-packages/telegram/ext/extbot.py\", line 199, in _message\n",
      "    result = super()._message(\n",
      "             ^^^^^^^^^^^^^^^^^\n",
      "  File \"/opt/conda/lib/python3.11/site-packages/telegram/bot.py\", line 332, in _message\n",
      "    result = self._post(endpoint, data, timeout=timeout, api_kwargs=api_kwargs)\n",
      "             ^^^^^^^^^^^^^^^^^^^^^^^^^^^^^^^^^^^^^^^^^^^^^^^^^^^^^^^^^^^^^^^^^^\n",
      "  File \"/opt/conda/lib/python3.11/site-packages/telegram/bot.py\", line 295, in _post\n",
      "    return self.request.post(\n",
      "           ^^^^^^^^^^^^^^^^^^\n",
      "  File \"/opt/conda/lib/python3.11/site-packages/telegram/utils/request.py\", line 356, in post\n",
      "    result = self._request_wrapper(\n",
      "             ^^^^^^^^^^^^^^^^^^^^^^\n",
      "  File \"/opt/conda/lib/python3.11/site-packages/telegram/utils/request.py\", line 279, in _request_wrapper\n",
      "    raise BadRequest(message)\n",
      "telegram.error.BadRequest: Message text is empty\n",
      "No error handlers are registered, logging exception.\n",
      "Traceback (most recent call last):\n",
      "  File \"/opt/conda/lib/python3.11/site-packages/telegram/ext/dispatcher.py\", line 555, in process_update\n",
      "    handler.handle_update(update, self, check, context)\n",
      "  File \"/opt/conda/lib/python3.11/site-packages/telegram/ext/handler.py\", line 198, in handle_update\n",
      "    return self.callback(update, context)\n",
      "           ^^^^^^^^^^^^^^^^^^^^^^^^^^^^^^\n",
      "  File \"/tmp/ipykernel_19536/3690942836.py\", line 4, in air_message\n",
      "    context.bot.send_message(update.effective_chat.id, airinfo)\n",
      "  File \"/opt/conda/lib/python3.11/site-packages/telegram/bot.py\", line 130, in decorator\n",
      "    result = func(*args, **kwargs)\n",
      "             ^^^^^^^^^^^^^^^^^^^^^\n",
      "  File \"/opt/conda/lib/python3.11/site-packages/telegram/bot.py\", line 513, in send_message\n",
      "    return self._message(  # type: ignore[return-value]\n",
      "           ^^^^^^^^^^^^^^^^^^^^^^^^^^^^^^^^^^^^^^^^^^^^\n",
      "  File \"/opt/conda/lib/python3.11/site-packages/telegram/ext/extbot.py\", line 199, in _message\n",
      "    result = super()._message(\n",
      "             ^^^^^^^^^^^^^^^^^\n",
      "  File \"/opt/conda/lib/python3.11/site-packages/telegram/bot.py\", line 332, in _message\n",
      "    result = self._post(endpoint, data, timeout=timeout, api_kwargs=api_kwargs)\n",
      "             ^^^^^^^^^^^^^^^^^^^^^^^^^^^^^^^^^^^^^^^^^^^^^^^^^^^^^^^^^^^^^^^^^^\n",
      "  File \"/opt/conda/lib/python3.11/site-packages/telegram/bot.py\", line 295, in _post\n",
      "    return self.request.post(\n",
      "           ^^^^^^^^^^^^^^^^^^\n",
      "  File \"/opt/conda/lib/python3.11/site-packages/telegram/utils/request.py\", line 356, in post\n",
      "    result = self._request_wrapper(\n",
      "             ^^^^^^^^^^^^^^^^^^^^^^\n",
      "  File \"/opt/conda/lib/python3.11/site-packages/telegram/utils/request.py\", line 279, in _request_wrapper\n",
      "    raise BadRequest(message)\n",
      "telegram.error.BadRequest: Message text is empty\n"
     ]
    }
   ],
   "source": [
    "print('텔레그램 RPA 서버 실행중...')\n",
    "updater.start_polling(timeout=3, drop_pending_updates=True)\n",
    "updater.idle()"
   ]
  },
  {
   "cell_type": "code",
   "execution_count": null,
   "id": "58400e33-8038-473a-93f7-b33f20e994fe",
   "metadata": {},
   "outputs": [],
   "source": []
  },
  {
   "cell_type": "code",
   "execution_count": null,
   "id": "9b12acdb-07e4-48c6-83f8-08b154fce46d",
   "metadata": {},
   "outputs": [],
   "source": []
  }
 ],
 "metadata": {
  "kernelspec": {
   "display_name": "Python 3 (ipykernel)",
   "language": "python",
   "name": "python3"
  },
  "language_info": {
   "codemirror_mode": {
    "name": "ipython",
    "version": 3
   },
   "file_extension": ".py",
   "mimetype": "text/x-python",
   "name": "python",
   "nbconvert_exporter": "python",
   "pygments_lexer": "ipython3",
   "version": "3.11.4"
  }
 },
 "nbformat": 4,
 "nbformat_minor": 5
}

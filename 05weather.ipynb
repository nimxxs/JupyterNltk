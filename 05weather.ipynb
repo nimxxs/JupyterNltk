{
 "cells": [
  {
   "cell_type": "markdown",
   "id": "dc905ef6-c221-4dd8-9d11-f84785888efd",
   "metadata": {},
   "source": [
    "## 날씨 현황을 알려주는 메신져봇 구현"
   ]
  },
  {
   "cell_type": "code",
   "execution_count": 1,
   "id": "8e01dbbd-dbba-49ad-902e-39aa6a6cb1ba",
   "metadata": {},
   "outputs": [],
   "source": [
    "import telegram"
   ]
  },
  {
   "cell_type": "code",
   "execution_count": 2,
   "id": "a14ae6ea-a2a7-4a3b-9bbd-7c62a59e90dd",
   "metadata": {},
   "outputs": [
    {
     "data": {
      "text/plain": [
       "'6540124535:AAFlmA7M3sEEaHtXK451bGTofe1dyEJ7miU'"
      ]
     },
     "execution_count": 2,
     "metadata": {},
     "output_type": "execute_result"
    }
   ],
   "source": [
    "# 텔레그램 API 키 등록\n",
    "with open('telegram_token.txt') as f:\n",
    "    mytoken = f.read()\n",
    "mytoken"
   ]
  },
  {
   "cell_type": "code",
   "execution_count": 3,
   "id": "d7795903-bb90-40f9-95bf-2524ec4b816f",
   "metadata": {},
   "outputs": [],
   "source": [
    "# 텔레그램 봇 초기화\n",
    "bot = telegram.Bot(token=mytoken)"
   ]
  },
  {
   "cell_type": "code",
   "execution_count": 4,
   "id": "e599bf82-8eb5-463f-b1ad-473db4f083a6",
   "metadata": {},
   "outputs": [],
   "source": [
    "from telegram.ext import Updater\n",
    "from telegram.ext import MessageHandler\n",
    "from telegram.ext import CommandHandler\n",
    "from telegram.ext import Filters"
   ]
  },
  {
   "cell_type": "markdown",
   "id": "3163b169-0cc6-4ece-91a9-bb83b2e324fd",
   "metadata": {},
   "source": [
    "### 날씨에 따른 이모지 출력함수"
   ]
  },
  {
   "cell_type": "code",
   "execution_count": 5,
   "id": "d7f88c27-8fb6-4698-b2ed-629dfbeb68de",
   "metadata": {},
   "outputs": [],
   "source": [
    "def wfgrade(wf):\n",
    "    emoji = '🌞'\n",
    "    if wf == '구름많음': emoji = '☁️'\n",
    "    elif wf == '흐림': emoji = '😶‍🌫️'\n",
    "    elif wf == '흐리고 비': emoji = '☔'\n",
    "    elif wf == '흐리고 눈': emoji = '☃️'\n",
    "    return emoji"
   ]
  },
  {
   "cell_type": "markdown",
   "id": "b3fa1796-efa4-4609-b362-51444723d103",
   "metadata": {},
   "source": [
    "### 날씨 정보 수집하고 조회하는 함수"
   ]
  },
  {
   "cell_type": "code",
   "execution_count": 6,
   "id": "8a22a622-5908-48df-9949-55d29abe025e",
   "metadata": {},
   "outputs": [],
   "source": [
    "import requests\n",
    "from bs4 import BeautifulSoup"
   ]
  },
  {
   "cell_type": "code",
   "execution_count": 7,
   "id": "26f486fd-3b36-4f1b-8d0a-02e368f76630",
   "metadata": {},
   "outputs": [],
   "source": [
    "url = 'https://www.kma.go.kr/weather/forecast/mid-term-rss3.jsp?stnId=109'\n",
    "headers = {'User-Agent':'Mozilla/5.0 (Windows NT 10.0; Win64; x64) AppleWebKit/537.36 (KHTML, like Gecko) Chrome/115.0.0.0 Safari/537.36'}"
   ]
  },
  {
   "cell_type": "code",
   "execution_count": 8,
   "id": "1a77916f-31a8-4895-b275-792f9eabbd71",
   "metadata": {},
   "outputs": [],
   "source": [
    "# 날씨 데이터를 내려받아 xml파일에 저장\n",
    "def reload_weather():\n",
    "    res = requests.get(url, headers=headers)\n",
    "    with open('./data/weather.xml', 'w', encoding='UTF-8') as f:\n",
    "        f.writelines(res.text)\n",
    "\n",
    "reload_weather()"
   ]
  },
  {
   "cell_type": "code",
   "execution_count": 9,
   "id": "f6566cca-a19e-4cf1-a6d8-ed8c3597b2cb",
   "metadata": {},
   "outputs": [
    {
     "data": {
      "text/plain": [
       "'서울, 2023-09-23 00:00,\\n구름많음 ☁️, 27, 27, 30'"
      ]
     },
     "execution_count": 9,
     "metadata": {},
     "output_type": "execute_result"
    }
   ],
   "source": [
    "# 특정 지역의 날씨를 조회해서 결과 반환\n",
    "def fetch_weather(region):\n",
    "    with open('./data/weather.xml', encoding='UTF-8') as f:\n",
    "        wtdata = BeautifulSoup(f.read(), 'xml')\n",
    "        for loc in wtdata.findAll('location'):\n",
    "            if loc.city.text == region:\n",
    "                for data in loc.findAll('data'):\n",
    "                    wtinfo = f'{loc.city.text}, {data.tmEf.text},\\n'\\\n",
    "                          f'{data.wf.text} {wfgrade(data.wf.text)}, '\\\n",
    "                          f'{data.tmx.text}, '\\\n",
    "                          f'{data.tmx.text}, {data.rnSt.text}'\n",
    "                    return wtinfo\n",
    "\n",
    "fetch_weather('서울')"
   ]
  },
  {
   "cell_type": "markdown",
   "id": "5454305f-f5a9-430c-9475-0e2034fb8da5",
   "metadata": {},
   "source": [
    "### 텔레그램 챗봇 응답처리 콜백함수"
   ]
  },
  {
   "cell_type": "code",
   "execution_count": 10,
   "id": "06cb8727-1067-4e81-b519-04d5ddd9989c",
   "metadata": {},
   "outputs": [],
   "source": [
    "# 날씨 정보 출력\n",
    "def weather_message(update, context):\n",
    "    wtinfo = fetch_weather(update.message.text)\n",
    "    context.bot.send_message(update.effective_chat.id, wtinfo)"
   ]
  },
  {
   "cell_type": "code",
   "execution_count": 11,
   "id": "244bb1a2-9de4-4269-ac2a-1cd796517d91",
   "metadata": {},
   "outputs": [],
   "source": [
    "# 날씨 정보 갱신\n",
    "def reload_message(update, context):\n",
    "    reload_weather()\n",
    "    context.bot.send_message(update.effective_chat.id, '💫날씨정보 갱신됨!!💫')"
   ]
  },
  {
   "cell_type": "markdown",
   "id": "6cb9630e-3797-4420-9c03-88760fb95d58",
   "metadata": {},
   "source": [
    "### 텔레그램 챗봇 서버 초기화"
   ]
  },
  {
   "cell_type": "code",
   "execution_count": 12,
   "id": "0d5cd884-3559-4437-8d05-f1f2f02e5aa2",
   "metadata": {},
   "outputs": [
    {
     "name": "stdout",
     "output_type": "stream",
     "text": [
      "텔레그램 RPA 서버 준비중...\n"
     ]
    }
   ],
   "source": [
    "print('텔레그램 RPA 서버 준비중...')\n",
    "updater = Updater(mytoken, use_context=True)"
   ]
  },
  {
   "cell_type": "markdown",
   "id": "a7db4f99-b5b1-4ead-9903-c813761f7355",
   "metadata": {},
   "source": [
    "#### 콜백함수 등록"
   ]
  },
  {
   "cell_type": "code",
   "execution_count": 13,
   "id": "e156d48d-df07-4380-a29d-646027dc5fc2",
   "metadata": {},
   "outputs": [],
   "source": [
    "weather_handler = MessageHandler(Filters.text, weather_message)\n",
    "reload_handler = CommandHandler('reload', reload_message)"
   ]
  },
  {
   "cell_type": "markdown",
   "id": "221fc730-51e7-42cc-ab46-19570109f3fe",
   "metadata": {},
   "source": [
    "#### 핸들러 함수 등록"
   ]
  },
  {
   "cell_type": "code",
   "execution_count": 14,
   "id": "c0f791c9-e59e-4ed8-8581-4c833ec55b13",
   "metadata": {},
   "outputs": [],
   "source": [
    "updater.dispatcher.add_handler(reload_handler)\n",
    "updater.dispatcher.add_handler(weather_handler)"
   ]
  },
  {
   "cell_type": "markdown",
   "id": "5874d55c-6a87-4380-9cde-ec6e5d2b03f0",
   "metadata": {},
   "source": [
    "#### 텔레그램 챗봇 서버 실행"
   ]
  },
  {
   "cell_type": "code",
   "execution_count": 15,
   "id": "e04c30b4-3904-4f09-84d7-7025061ce060",
   "metadata": {
    "collapsed": true,
    "jupyter": {
     "outputs_hidden": true
    }
   },
   "outputs": [
    {
     "name": "stdout",
     "output_type": "stream",
     "text": [
      "텔레그램 RPA 서버 실행중...\n"
     ]
    },
    {
     "name": "stderr",
     "output_type": "stream",
     "text": [
      "No error handlers are registered, logging exception.\n",
      "Traceback (most recent call last):\n",
      "  File \"/opt/conda/lib/python3.11/site-packages/telegram/ext/dispatcher.py\", line 555, in process_update\n",
      "    handler.handle_update(update, self, check, context)\n",
      "  File \"/opt/conda/lib/python3.11/site-packages/telegram/ext/handler.py\", line 198, in handle_update\n",
      "    return self.callback(update, context)\n",
      "           ^^^^^^^^^^^^^^^^^^^^^^^^^^^^^^\n",
      "  File \"/tmp/ipykernel_28993/684099546.py\", line 4, in weather_message\n",
      "    context.bot.send_message(update.effective_chat.id, wtinfo)\n",
      "  File \"/opt/conda/lib/python3.11/site-packages/telegram/bot.py\", line 130, in decorator\n",
      "    result = func(*args, **kwargs)\n",
      "             ^^^^^^^^^^^^^^^^^^^^^\n",
      "  File \"/opt/conda/lib/python3.11/site-packages/telegram/bot.py\", line 513, in send_message\n",
      "    return self._message(  # type: ignore[return-value]\n",
      "           ^^^^^^^^^^^^^^^^^^^^^^^^^^^^^^^^^^^^^^^^^^^^\n",
      "  File \"/opt/conda/lib/python3.11/site-packages/telegram/ext/extbot.py\", line 199, in _message\n",
      "    result = super()._message(\n",
      "             ^^^^^^^^^^^^^^^^^\n",
      "  File \"/opt/conda/lib/python3.11/site-packages/telegram/bot.py\", line 332, in _message\n",
      "    result = self._post(endpoint, data, timeout=timeout, api_kwargs=api_kwargs)\n",
      "             ^^^^^^^^^^^^^^^^^^^^^^^^^^^^^^^^^^^^^^^^^^^^^^^^^^^^^^^^^^^^^^^^^^\n",
      "  File \"/opt/conda/lib/python3.11/site-packages/telegram/bot.py\", line 295, in _post\n",
      "    return self.request.post(\n",
      "           ^^^^^^^^^^^^^^^^^^\n",
      "  File \"/opt/conda/lib/python3.11/site-packages/telegram/utils/request.py\", line 356, in post\n",
      "    result = self._request_wrapper(\n",
      "             ^^^^^^^^^^^^^^^^^^^^^^\n",
      "  File \"/opt/conda/lib/python3.11/site-packages/telegram/utils/request.py\", line 279, in _request_wrapper\n",
      "    raise BadRequest(message)\n",
      "telegram.error.BadRequest: Message text is empty\n",
      "No error handlers are registered, logging exception.\n",
      "Traceback (most recent call last):\n",
      "  File \"/opt/conda/lib/python3.11/site-packages/telegram/ext/dispatcher.py\", line 555, in process_update\n",
      "    handler.handle_update(update, self, check, context)\n",
      "  File \"/opt/conda/lib/python3.11/site-packages/telegram/ext/handler.py\", line 198, in handle_update\n",
      "    return self.callback(update, context)\n",
      "           ^^^^^^^^^^^^^^^^^^^^^^^^^^^^^^\n",
      "  File \"/tmp/ipykernel_28993/684099546.py\", line 4, in weather_message\n",
      "    context.bot.send_message(update.effective_chat.id, wtinfo)\n",
      "  File \"/opt/conda/lib/python3.11/site-packages/telegram/bot.py\", line 130, in decorator\n",
      "    result = func(*args, **kwargs)\n",
      "             ^^^^^^^^^^^^^^^^^^^^^\n",
      "  File \"/opt/conda/lib/python3.11/site-packages/telegram/bot.py\", line 513, in send_message\n",
      "    return self._message(  # type: ignore[return-value]\n",
      "           ^^^^^^^^^^^^^^^^^^^^^^^^^^^^^^^^^^^^^^^^^^^^\n",
      "  File \"/opt/conda/lib/python3.11/site-packages/telegram/ext/extbot.py\", line 199, in _message\n",
      "    result = super()._message(\n",
      "             ^^^^^^^^^^^^^^^^^\n",
      "  File \"/opt/conda/lib/python3.11/site-packages/telegram/bot.py\", line 332, in _message\n",
      "    result = self._post(endpoint, data, timeout=timeout, api_kwargs=api_kwargs)\n",
      "             ^^^^^^^^^^^^^^^^^^^^^^^^^^^^^^^^^^^^^^^^^^^^^^^^^^^^^^^^^^^^^^^^^^\n",
      "  File \"/opt/conda/lib/python3.11/site-packages/telegram/bot.py\", line 295, in _post\n",
      "    return self.request.post(\n",
      "           ^^^^^^^^^^^^^^^^^^\n",
      "  File \"/opt/conda/lib/python3.11/site-packages/telegram/utils/request.py\", line 356, in post\n",
      "    result = self._request_wrapper(\n",
      "             ^^^^^^^^^^^^^^^^^^^^^^\n",
      "  File \"/opt/conda/lib/python3.11/site-packages/telegram/utils/request.py\", line 279, in _request_wrapper\n",
      "    raise BadRequest(message)\n",
      "telegram.error.BadRequest: Message text is empty\n",
      "No error handlers are registered, logging exception.\n",
      "Traceback (most recent call last):\n",
      "  File \"/opt/conda/lib/python3.11/site-packages/telegram/ext/dispatcher.py\", line 555, in process_update\n",
      "    handler.handle_update(update, self, check, context)\n",
      "  File \"/opt/conda/lib/python3.11/site-packages/telegram/ext/handler.py\", line 198, in handle_update\n",
      "    return self.callback(update, context)\n",
      "           ^^^^^^^^^^^^^^^^^^^^^^^^^^^^^^\n",
      "  File \"/tmp/ipykernel_28993/684099546.py\", line 4, in weather_message\n",
      "    context.bot.send_message(update.effective_chat.id, wtinfo)\n",
      "  File \"/opt/conda/lib/python3.11/site-packages/telegram/bot.py\", line 130, in decorator\n",
      "    result = func(*args, **kwargs)\n",
      "             ^^^^^^^^^^^^^^^^^^^^^\n",
      "  File \"/opt/conda/lib/python3.11/site-packages/telegram/bot.py\", line 513, in send_message\n",
      "    return self._message(  # type: ignore[return-value]\n",
      "           ^^^^^^^^^^^^^^^^^^^^^^^^^^^^^^^^^^^^^^^^^^^^\n",
      "  File \"/opt/conda/lib/python3.11/site-packages/telegram/ext/extbot.py\", line 199, in _message\n",
      "    result = super()._message(\n",
      "             ^^^^^^^^^^^^^^^^^\n",
      "  File \"/opt/conda/lib/python3.11/site-packages/telegram/bot.py\", line 332, in _message\n",
      "    result = self._post(endpoint, data, timeout=timeout, api_kwargs=api_kwargs)\n",
      "             ^^^^^^^^^^^^^^^^^^^^^^^^^^^^^^^^^^^^^^^^^^^^^^^^^^^^^^^^^^^^^^^^^^\n",
      "  File \"/opt/conda/lib/python3.11/site-packages/telegram/bot.py\", line 295, in _post\n",
      "    return self.request.post(\n",
      "           ^^^^^^^^^^^^^^^^^^\n",
      "  File \"/opt/conda/lib/python3.11/site-packages/telegram/utils/request.py\", line 356, in post\n",
      "    result = self._request_wrapper(\n",
      "             ^^^^^^^^^^^^^^^^^^^^^^\n",
      "  File \"/opt/conda/lib/python3.11/site-packages/telegram/utils/request.py\", line 279, in _request_wrapper\n",
      "    raise BadRequest(message)\n",
      "telegram.error.BadRequest: Message text is empty\n",
      "No error handlers are registered, logging exception.\n",
      "Traceback (most recent call last):\n",
      "  File \"/opt/conda/lib/python3.11/site-packages/telegram/ext/dispatcher.py\", line 555, in process_update\n",
      "    handler.handle_update(update, self, check, context)\n",
      "  File \"/opt/conda/lib/python3.11/site-packages/telegram/ext/handler.py\", line 198, in handle_update\n",
      "    return self.callback(update, context)\n",
      "           ^^^^^^^^^^^^^^^^^^^^^^^^^^^^^^\n",
      "  File \"/tmp/ipykernel_28993/684099546.py\", line 4, in weather_message\n",
      "    context.bot.send_message(update.effective_chat.id, wtinfo)\n",
      "  File \"/opt/conda/lib/python3.11/site-packages/telegram/bot.py\", line 130, in decorator\n",
      "    result = func(*args, **kwargs)\n",
      "             ^^^^^^^^^^^^^^^^^^^^^\n",
      "  File \"/opt/conda/lib/python3.11/site-packages/telegram/bot.py\", line 513, in send_message\n",
      "    return self._message(  # type: ignore[return-value]\n",
      "           ^^^^^^^^^^^^^^^^^^^^^^^^^^^^^^^^^^^^^^^^^^^^\n",
      "  File \"/opt/conda/lib/python3.11/site-packages/telegram/ext/extbot.py\", line 199, in _message\n",
      "    result = super()._message(\n",
      "             ^^^^^^^^^^^^^^^^^\n",
      "  File \"/opt/conda/lib/python3.11/site-packages/telegram/bot.py\", line 332, in _message\n",
      "    result = self._post(endpoint, data, timeout=timeout, api_kwargs=api_kwargs)\n",
      "             ^^^^^^^^^^^^^^^^^^^^^^^^^^^^^^^^^^^^^^^^^^^^^^^^^^^^^^^^^^^^^^^^^^\n",
      "  File \"/opt/conda/lib/python3.11/site-packages/telegram/bot.py\", line 295, in _post\n",
      "    return self.request.post(\n",
      "           ^^^^^^^^^^^^^^^^^^\n",
      "  File \"/opt/conda/lib/python3.11/site-packages/telegram/utils/request.py\", line 356, in post\n",
      "    result = self._request_wrapper(\n",
      "             ^^^^^^^^^^^^^^^^^^^^^^\n",
      "  File \"/opt/conda/lib/python3.11/site-packages/telegram/utils/request.py\", line 279, in _request_wrapper\n",
      "    raise BadRequest(message)\n",
      "telegram.error.BadRequest: Message text is empty\n",
      "No error handlers are registered, logging exception.\n",
      "Traceback (most recent call last):\n",
      "  File \"/opt/conda/lib/python3.11/site-packages/telegram/ext/dispatcher.py\", line 555, in process_update\n",
      "    handler.handle_update(update, self, check, context)\n",
      "  File \"/opt/conda/lib/python3.11/site-packages/telegram/ext/handler.py\", line 198, in handle_update\n",
      "    return self.callback(update, context)\n",
      "           ^^^^^^^^^^^^^^^^^^^^^^^^^^^^^^\n",
      "  File \"/tmp/ipykernel_28993/684099546.py\", line 4, in weather_message\n",
      "    context.bot.send_message(update.effective_chat.id, wtinfo)\n",
      "  File \"/opt/conda/lib/python3.11/site-packages/telegram/bot.py\", line 130, in decorator\n",
      "    result = func(*args, **kwargs)\n",
      "             ^^^^^^^^^^^^^^^^^^^^^\n",
      "  File \"/opt/conda/lib/python3.11/site-packages/telegram/bot.py\", line 513, in send_message\n",
      "    return self._message(  # type: ignore[return-value]\n",
      "           ^^^^^^^^^^^^^^^^^^^^^^^^^^^^^^^^^^^^^^^^^^^^\n",
      "  File \"/opt/conda/lib/python3.11/site-packages/telegram/ext/extbot.py\", line 199, in _message\n",
      "    result = super()._message(\n",
      "             ^^^^^^^^^^^^^^^^^\n",
      "  File \"/opt/conda/lib/python3.11/site-packages/telegram/bot.py\", line 332, in _message\n",
      "    result = self._post(endpoint, data, timeout=timeout, api_kwargs=api_kwargs)\n",
      "             ^^^^^^^^^^^^^^^^^^^^^^^^^^^^^^^^^^^^^^^^^^^^^^^^^^^^^^^^^^^^^^^^^^\n",
      "  File \"/opt/conda/lib/python3.11/site-packages/telegram/bot.py\", line 295, in _post\n",
      "    return self.request.post(\n",
      "           ^^^^^^^^^^^^^^^^^^\n",
      "  File \"/opt/conda/lib/python3.11/site-packages/telegram/utils/request.py\", line 356, in post\n",
      "    result = self._request_wrapper(\n",
      "             ^^^^^^^^^^^^^^^^^^^^^^\n",
      "  File \"/opt/conda/lib/python3.11/site-packages/telegram/utils/request.py\", line 279, in _request_wrapper\n",
      "    raise BadRequest(message)\n",
      "telegram.error.BadRequest: Message text is empty\n",
      "No error handlers are registered, logging exception.\n",
      "Traceback (most recent call last):\n",
      "  File \"/opt/conda/lib/python3.11/site-packages/telegram/ext/dispatcher.py\", line 555, in process_update\n",
      "    handler.handle_update(update, self, check, context)\n",
      "  File \"/opt/conda/lib/python3.11/site-packages/telegram/ext/handler.py\", line 198, in handle_update\n",
      "    return self.callback(update, context)\n",
      "           ^^^^^^^^^^^^^^^^^^^^^^^^^^^^^^\n",
      "  File \"/tmp/ipykernel_28993/684099546.py\", line 4, in weather_message\n",
      "    context.bot.send_message(update.effective_chat.id, wtinfo)\n",
      "  File \"/opt/conda/lib/python3.11/site-packages/telegram/bot.py\", line 130, in decorator\n",
      "    result = func(*args, **kwargs)\n",
      "             ^^^^^^^^^^^^^^^^^^^^^\n",
      "  File \"/opt/conda/lib/python3.11/site-packages/telegram/bot.py\", line 513, in send_message\n",
      "    return self._message(  # type: ignore[return-value]\n",
      "           ^^^^^^^^^^^^^^^^^^^^^^^^^^^^^^^^^^^^^^^^^^^^\n",
      "  File \"/opt/conda/lib/python3.11/site-packages/telegram/ext/extbot.py\", line 199, in _message\n",
      "    result = super()._message(\n",
      "             ^^^^^^^^^^^^^^^^^\n",
      "  File \"/opt/conda/lib/python3.11/site-packages/telegram/bot.py\", line 332, in _message\n",
      "    result = self._post(endpoint, data, timeout=timeout, api_kwargs=api_kwargs)\n",
      "             ^^^^^^^^^^^^^^^^^^^^^^^^^^^^^^^^^^^^^^^^^^^^^^^^^^^^^^^^^^^^^^^^^^\n",
      "  File \"/opt/conda/lib/python3.11/site-packages/telegram/bot.py\", line 295, in _post\n",
      "    return self.request.post(\n",
      "           ^^^^^^^^^^^^^^^^^^\n",
      "  File \"/opt/conda/lib/python3.11/site-packages/telegram/utils/request.py\", line 356, in post\n",
      "    result = self._request_wrapper(\n",
      "             ^^^^^^^^^^^^^^^^^^^^^^\n",
      "  File \"/opt/conda/lib/python3.11/site-packages/telegram/utils/request.py\", line 279, in _request_wrapper\n",
      "    raise BadRequest(message)\n",
      "telegram.error.BadRequest: Message text is empty\n",
      "No error handlers are registered, logging exception.\n",
      "Traceback (most recent call last):\n",
      "  File \"/opt/conda/lib/python3.11/site-packages/telegram/ext/dispatcher.py\", line 555, in process_update\n",
      "    handler.handle_update(update, self, check, context)\n",
      "  File \"/opt/conda/lib/python3.11/site-packages/telegram/ext/handler.py\", line 198, in handle_update\n",
      "    return self.callback(update, context)\n",
      "           ^^^^^^^^^^^^^^^^^^^^^^^^^^^^^^\n",
      "  File \"/tmp/ipykernel_28993/684099546.py\", line 4, in weather_message\n",
      "    context.bot.send_message(update.effective_chat.id, wtinfo)\n",
      "  File \"/opt/conda/lib/python3.11/site-packages/telegram/bot.py\", line 130, in decorator\n",
      "    result = func(*args, **kwargs)\n",
      "             ^^^^^^^^^^^^^^^^^^^^^\n",
      "  File \"/opt/conda/lib/python3.11/site-packages/telegram/bot.py\", line 513, in send_message\n",
      "    return self._message(  # type: ignore[return-value]\n",
      "           ^^^^^^^^^^^^^^^^^^^^^^^^^^^^^^^^^^^^^^^^^^^^\n",
      "  File \"/opt/conda/lib/python3.11/site-packages/telegram/ext/extbot.py\", line 199, in _message\n",
      "    result = super()._message(\n",
      "             ^^^^^^^^^^^^^^^^^\n",
      "  File \"/opt/conda/lib/python3.11/site-packages/telegram/bot.py\", line 332, in _message\n",
      "    result = self._post(endpoint, data, timeout=timeout, api_kwargs=api_kwargs)\n",
      "             ^^^^^^^^^^^^^^^^^^^^^^^^^^^^^^^^^^^^^^^^^^^^^^^^^^^^^^^^^^^^^^^^^^\n",
      "  File \"/opt/conda/lib/python3.11/site-packages/telegram/bot.py\", line 295, in _post\n",
      "    return self.request.post(\n",
      "           ^^^^^^^^^^^^^^^^^^\n",
      "  File \"/opt/conda/lib/python3.11/site-packages/telegram/utils/request.py\", line 356, in post\n",
      "    result = self._request_wrapper(\n",
      "             ^^^^^^^^^^^^^^^^^^^^^^\n",
      "  File \"/opt/conda/lib/python3.11/site-packages/telegram/utils/request.py\", line 279, in _request_wrapper\n",
      "    raise BadRequest(message)\n",
      "telegram.error.BadRequest: Message text is empty\n",
      "No error handlers are registered, logging exception.\n",
      "Traceback (most recent call last):\n",
      "  File \"/opt/conda/lib/python3.11/site-packages/telegram/ext/dispatcher.py\", line 555, in process_update\n",
      "    handler.handle_update(update, self, check, context)\n",
      "  File \"/opt/conda/lib/python3.11/site-packages/telegram/ext/handler.py\", line 198, in handle_update\n",
      "    return self.callback(update, context)\n",
      "           ^^^^^^^^^^^^^^^^^^^^^^^^^^^^^^\n",
      "  File \"/tmp/ipykernel_28993/684099546.py\", line 4, in weather_message\n",
      "    context.bot.send_message(update.effective_chat.id, wtinfo)\n",
      "  File \"/opt/conda/lib/python3.11/site-packages/telegram/bot.py\", line 130, in decorator\n",
      "    result = func(*args, **kwargs)\n",
      "             ^^^^^^^^^^^^^^^^^^^^^\n",
      "  File \"/opt/conda/lib/python3.11/site-packages/telegram/bot.py\", line 513, in send_message\n",
      "    return self._message(  # type: ignore[return-value]\n",
      "           ^^^^^^^^^^^^^^^^^^^^^^^^^^^^^^^^^^^^^^^^^^^^\n",
      "  File \"/opt/conda/lib/python3.11/site-packages/telegram/ext/extbot.py\", line 199, in _message\n",
      "    result = super()._message(\n",
      "             ^^^^^^^^^^^^^^^^^\n",
      "  File \"/opt/conda/lib/python3.11/site-packages/telegram/bot.py\", line 332, in _message\n",
      "    result = self._post(endpoint, data, timeout=timeout, api_kwargs=api_kwargs)\n",
      "             ^^^^^^^^^^^^^^^^^^^^^^^^^^^^^^^^^^^^^^^^^^^^^^^^^^^^^^^^^^^^^^^^^^\n",
      "  File \"/opt/conda/lib/python3.11/site-packages/telegram/bot.py\", line 295, in _post\n",
      "    return self.request.post(\n",
      "           ^^^^^^^^^^^^^^^^^^\n",
      "  File \"/opt/conda/lib/python3.11/site-packages/telegram/utils/request.py\", line 356, in post\n",
      "    result = self._request_wrapper(\n",
      "             ^^^^^^^^^^^^^^^^^^^^^^\n",
      "  File \"/opt/conda/lib/python3.11/site-packages/telegram/utils/request.py\", line 279, in _request_wrapper\n",
      "    raise BadRequest(message)\n",
      "telegram.error.BadRequest: Message text is empty\n"
     ]
    }
   ],
   "source": [
    "print('텔레그램 RPA 서버 실행중...')\n",
    "updater.start_polling(timeout=3, drop_pending_updates=True)\n",
    "updater.idle()"
   ]
  },
  {
   "cell_type": "code",
   "execution_count": null,
   "id": "8bc8e1e4-fc1b-4c9e-adfc-e59516a71773",
   "metadata": {},
   "outputs": [],
   "source": []
  }
 ],
 "metadata": {
  "kernelspec": {
   "display_name": "Python 3 (ipykernel)",
   "language": "python",
   "name": "python3"
  },
  "language_info": {
   "codemirror_mode": {
    "name": "ipython",
    "version": 3
   },
   "file_extension": ".py",
   "mimetype": "text/x-python",
   "name": "python",
   "nbconvert_exporter": "python",
   "pygments_lexer": "ipython3",
   "version": "3.11.4"
  }
 },
 "nbformat": 4,
 "nbformat_minor": 5
}
